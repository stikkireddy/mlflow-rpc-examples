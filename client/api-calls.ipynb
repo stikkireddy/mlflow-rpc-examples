{
 "cells": [
  {
   "cell_type": "code",
   "execution_count": 4,
   "id": "initial_id",
   "metadata": {
    "collapsed": true,
    "ExecuteTime": {
     "end_time": "2024-03-04T14:11:20.439709Z",
     "start_time": "2024-03-04T14:11:19.953200Z"
    }
   },
   "outputs": [
    {
     "name": "stdout",
     "output_type": "stream",
     "text": [
      "{\n",
      "    \"skip\": 0,\n",
      "    \"limit\": 100\n",
      "}\n"
     ]
    }
   ],
   "source": [
    "import json\n",
    "\n",
    "from databricks.sdk import WorkspaceClient\n",
    "from mlrpc.client import rpc\n",
    "\n",
    "endpoint_name = \"mlrpc_demo_serving\"\n",
    "databricks_profile = \"mlrpc-azure\"\n",
    "\n",
    "client = rpc.databricks(endpoint_name, WorkspaceClient(profile=databricks_profile))\n",
    "print(json.dumps(client.get(\"/dev\").body, indent=4))"
   ]
  },
  {
   "cell_type": "code",
   "outputs": [],
   "source": [],
   "metadata": {
    "collapsed": false
   },
   "id": "20d3119c01c055b0"
  }
 ],
 "metadata": {
  "kernelspec": {
   "display_name": "Python 3",
   "language": "python",
   "name": "python3"
  },
  "language_info": {
   "codemirror_mode": {
    "name": "ipython",
    "version": 2
   },
   "file_extension": ".py",
   "mimetype": "text/x-python",
   "name": "python",
   "nbconvert_exporter": "python",
   "pygments_lexer": "ipython2",
   "version": "2.7.6"
  }
 },
 "nbformat": 4,
 "nbformat_minor": 5
}
